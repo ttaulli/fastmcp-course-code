{
 "cells": [
  {
   "cell_type": "markdown",
   "id": "23ba6eee-92cb-4afe-bfde-f14f60600c12",
   "metadata": {},
   "source": [
    "## Setup"
   ]
  },
  {
   "cell_type": "code",
   "execution_count": 2,
   "id": "12811573-9c2f-44ac-8ec8-be1afc33ab71",
   "metadata": {},
   "outputs": [],
   "source": [
    "# pip install fastmcp"
   ]
  },
  {
   "cell_type": "code",
   "execution_count": 3,
   "id": "67003871-6857-4bd9-b84e-8a2c8c499096",
   "metadata": {},
   "outputs": [],
   "source": [
    "# uv pip install fastmcp"
   ]
  },
  {
   "cell_type": "code",
   "execution_count": 1,
   "id": "4e2083dc-bc20-4466-ac4f-3a3fc81c6f4f",
   "metadata": {},
   "outputs": [],
   "source": [
    "# verify installatioin"
   ]
  },
  {
   "cell_type": "code",
   "execution_count": 3,
   "id": "e430c29b-b0c2-4034-baea-04a43c6aa989",
   "metadata": {},
   "outputs": [],
   "source": [
    "# fastmcp version"
   ]
  },
  {
   "cell_type": "code",
   "execution_count": null,
   "id": "5d0d264e-9037-4fae-b1bc-1d929b740e01",
   "metadata": {},
   "outputs": [],
   "source": []
  }
 ],
 "metadata": {
  "kernelspec": {
   "display_name": "Python 3 (ipykernel)",
   "language": "python",
   "name": "python3"
  },
  "language_info": {
   "codemirror_mode": {
    "name": "ipython",
    "version": 3
   },
   "file_extension": ".py",
   "mimetype": "text/x-python",
   "name": "python",
   "nbconvert_exporter": "python",
   "pygments_lexer": "ipython3",
   "version": "3.12.4"
  }
 },
 "nbformat": 4,
 "nbformat_minor": 5
}
